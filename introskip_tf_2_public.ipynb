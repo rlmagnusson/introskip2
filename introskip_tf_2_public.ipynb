{
 "cells": [
  {
   "cell_type": "markdown",
   "metadata": {},
   "source": [
    "Training a neural network to recognise the first five seconds of intro sequence audio from television series Cheers\n",
    "\n",
    "The dataset used is recorded using the Python sounddevice module. Each sample is the Fourier transform of ~56ms of audio from either \n",
    "(1) the first 5 seconds of the Cheers intro,\n",
    "or\n",
    "(2) any point in the episode recorded once the intro song is completely finished"
   ]
  },
  {
   "cell_type": "code",
   "execution_count": 1,
   "metadata": {
    "collapsed": true
   },
   "outputs": [],
   "source": [
    "import tensorflow as tf\n",
    "import numpy as np\n",
    "import pandas as pd\n",
    "import matplotlib.pyplot as plt\n",
    "%matplotlib inline\n",
    "import sys\n",
    "from rlm import lsq_fit\n",
    "import time"
   ]
  },
  {
   "cell_type": "code",
   "execution_count": null,
   "metadata": {
    "collapsed": true
   },
   "outputs": [],
   "source": []
  },
  {
   "cell_type": "code",
   "execution_count": 2,
   "metadata": {},
   "outputs": [
    {
     "data": {
      "text/plain": [
       "(10289, 1251)"
      ]
     },
     "execution_count": 2,
     "metadata": {},
     "output_type": "execute_result"
    }
   ],
   "source": [
    "# import data\n",
    "data_dir = 'cheers/'\n",
    "# \n",
    "# dataset comes in two files: one for the intro recordings and one for the other recordings (body)\n",
    "# each sample is one line of 1251 integers between 0 and 999\n",
    "body_fn = data_dir + 'cheers_body_fail.dat'\n",
    "intro_fn = data_dir + 'cheers_intro_fail.dat'\n",
    "# normalize\n",
    "body = pd.read_csv(body_fn).as_matrix()/999\n",
    "intro = pd.read_csv(intro_fn).as_matrix()/999\n",
    "body.shape"
   ]
  },
  {
   "cell_type": "code",
   "execution_count": 3,
   "metadata": {
    "collapsed": true
   },
   "outputs": [],
   "source": [
    "# adding labels to the data\n",
    "N_body = body.shape[0]\n",
    "N_intro = intro.shape[0]\n",
    "\n",
    "y0 = np.zeros(2*N_body)\n",
    "for i in range(2*N_body):\n",
    "    y0[i] = (i+1)%2\n",
    "y0 = y0.reshape([N_body,2])\n",
    "\n",
    "y1 = np.zeros(2*N_intro)\n",
    "for i in range(2*N_intro):\n",
    "    y1[i] = i%2\n",
    "y1 = y1.reshape([N_intro,2])\n",
    "\n",
    "N_examples = N_body + N_intro\n",
    "\n",
    "body_ = np.concatenate((y0,body),axis=1)\n",
    "intro_ = np.concatenate((y1,intro),axis=1)\n",
    "full = np.concatenate((body_,intro_))\n",
    "\n",
    "# shuffle the full data\n",
    "np.random.shuffle(full)\n",
    "\n",
    "# save some samples as an unseen test pool\n",
    "p_test = .2\n",
    "pp = int(N_examples*(1-p_test))\n",
    "train = full[:pp,:]\n",
    "test = full[pp:,:]\n",
    "N_train = train.shape[0]"
   ]
  },
  {
   "cell_type": "code",
   "execution_count": 4,
   "metadata": {
    "collapsed": true
   },
   "outputs": [],
   "source": [
    "# define neural network (NN) components\n",
    "# first layer is 2000 relu nodes\n",
    "# second layer is softmax down to two classes (body/intro)\n",
    "\n",
    "X = tf.placeholder(tf.float32, [None,1251]) #batch data\n",
    "Y_ = tf.placeholder(tf.float32, [None,2]) #batch labels\n",
    "lr = tf.placeholder(tf.float32) #learning rate\n",
    "\n",
    "W = tf.Variable(tf.truncated_normal([1251,2000], stddev=0.1)) #weights\n",
    "b = tf.Variable(tf.truncated_normal([2000], stddev=0.1)) #biases\n",
    "\n",
    "W2 = tf.Variable(tf.truncated_normal([2000,2], stddev=0.1))\n",
    "b2 = tf.Variable(tf.truncated_normal([2], stddev=0.1))\n",
    "\n",
    "Y1 = tf.nn.relu(tf.matmul(X,W) + b)\n",
    "Y2 = tf.nn.softmax(tf.matmul(Y1,W2) + b2)\n",
    "\n",
    "# cross entropy loss\n",
    "cross_entropy = -tf.reduce_mean(Y_*tf.log(Y2)) * 10 * 2\n",
    "correct_prediction = tf.equal(tf.argmax(Y2,1),tf.argmax(Y_,1))\n",
    "accuracy = tf.reduce_mean(tf.cast(correct_prediction, tf.float32))\n",
    "\n",
    "train_step = tf.train.GradientDescentOptimizer(lr).minimize(cross_entropy)"
   ]
  },
  {
   "cell_type": "code",
   "execution_count": 5,
   "metadata": {
    "collapsed": true
   },
   "outputs": [],
   "source": [
    "init = tf.global_variables_initializer()\n",
    "sess = tf.Session()\n",
    "sess.run(init)"
   ]
  },
  {
   "cell_type": "code",
   "execution_count": 8,
   "metadata": {
    "collapsed": true
   },
   "outputs": [],
   "source": [
    "def step(session,batch_x,batch_y,learning_rate):\n",
    "    session.run(train_step,feed_dict={X: batch_x, Y_: batch_y,lr: learning_rate})"
   ]
  },
  {
   "cell_type": "code",
   "execution_count": 9,
   "metadata": {},
   "outputs": [
    {
     "data": {
      "text/plain": [
       "[<matplotlib.lines.Line2D at 0x23d45b53518>]"
      ]
     },
     "execution_count": 9,
     "metadata": {},
     "output_type": "execute_result"
    },
    {
     "data": {
      "image/png": "[encoded data removed]",
      "text/plain": [
       "<matplotlib.figure.Figure at 0x23d45b53c18>"
      ]
     },
     "metadata": {},
     "output_type": "display_data"
    }
   ],
   "source": [
    "# define learning parameters\n",
    "%matplotlib inline\n",
    "batch_size = 20\n",
    "batches = N_train // batch_size\n",
    "epochs = 1000\n",
    "iterations = 1\n",
    "updates = 1000\n",
    "N = epochs * batches * iterations\n",
    "\n",
    "# tracking lists for accuracy and cross entropy loss for both train and test samples\n",
    "train_acc, test_acc, train_ce, test_ce = [],[],[],[]\n",
    "it = 0 # iteration counter\n",
    "its = [] # iteration list\n",
    "\n",
    "# exponentially decaying learning rate\n",
    "init_rate,end_rate,decay = (5e-2,5e-5,7e-6)\n",
    "rate = []\n",
    "for i in range(N):\n",
    "    rate.append(end_rate + (init_rate - end_rate)*np.exp(-i*decay))\n",
    "fig,ax = plt.subplots(figsize=(16,4))\n",
    "ax.plot(rate)"
   ]
  },
  {
   "cell_type": "code",
   "execution_count": 10,
   "metadata": {},
   "outputs": [
    {
     "name": "stdout",
     "output_type": "stream",
     "text": [
      "Accuracy: 0.964 593000/593000 [100.00%]"
     ]
    }
   ],
   "source": [
    "# train the network\n",
    "for e in range(epochs):\n",
    "    np.random.shuffle(train)\n",
    "    for n in range(batches):\n",
    "        x = train[n*batch_size:(n+1)*batch_size,2:]\n",
    "        y = train[n*batch_size:(n+1)*batch_size,:2]\n",
    "        for _ in range(iterations):\n",
    "            step(sess,x,y,learning_rate)\n",
    "            it += 1\n",
    "            if it % updates == 0:\n",
    "                train_a,train_c = sess.run([accuracy, cross_entropy],feed_dict = {X:train[:,2:], Y_:train[:,:2]})\n",
    "                test_a,test_c = sess.run([accuracy, cross_entropy],feed_dict = {X:test[:,2:], Y_:test[:,:2]})\n",
    "                its.append(it)\n",
    "                train_acc.append(train_a)\n",
    "                train_ce.append(train_c)\n",
    "                test_acc.append(test_a)\n",
    "                test_ce.append(test_c)\n",
    "                per = 100*it/N\n",
    "                sys.stdout.write('\\rAccuracy: %.3f %i/%i [%.2f%%]' % (test_a,it,N,per))"
   ]
  },
  {
   "cell_type": "code",
   "execution_count": 11,
   "metadata": {},
   "outputs": [
    {
     "name": "stdout",
     "output_type": "stream",
     "text": [
      "./models/1515single_bs20_N1_batches593_e_1000_acc(0.964)\n"
     ]
    }
   ],
   "source": [
    "# save the model\n",
    "saver = tf.train.Saver()\n",
    "seed = str(time.time())[-4:]\n",
    "dir_ = './models/'\n",
    "name = dir_ + seed + 'single_bs%i_N%i_batches%i_e_%i_acc(%.3f)'%(batch_size, iterations, batches, epochs, test_a)\n",
    "saver.save(sess,name)\n",
    "print(name)"
   ]
  },
  {
   "cell_type": "code",
   "execution_count": 21,
   "metadata": {},
   "outputs": [
    {
     "data": {
      "text/plain": [
       "[[0.9567040130686654], [1.3321217494861037e-08]]"
      ]
     },
     "execution_count": 21,
     "metadata": {},
     "output_type": "execute_result"
    }
   ],
   "source": [
    "# plot accuracy and cross entropy loss\n",
    "fig,(ax1,ax2) = plt.subplots(2,figsize=(16,6))\n",
    "ax1.plot(its,train_acc,'-r',lw=3)\n",
    "ax1.plot(its,test_acc,'-b',lw=1)\n",
    "ax2.plot(its,train_ce,'-r',lw=3)\n",
    "ax2.plot(its,test_ce,'-b',lw=1)\n",
    "n = 100\n",
    "T1 = lsq_fit(its[-n:],test_acc[-n:])\n",
    "T2 = lsq_fit(its[-n:],test_ce[-n:])\n",
    "T1"
   ]
  },
  {
   "cell_type": "code",
   "execution_count": 23,
   "metadata": {},
   "outputs": [
    {
     "name": "stdout",
     "output_type": "stream",
     "text": [
      "      | Body | Intro |\n",
      "True  | 0.986 | 0.960  |\n",
      "False | 0.014 | 0.040  |\n"
     ]
    }
   ],
   "source": [
    "# to get a better feel for how the NN is clasifying samples, calculate the rate of false positives/negatives\n",
    "# this network's role would be to input a command upon detecting the intro (to skip it)\n",
    "# therefore the flaw that needs to be minimized is the false positive (detecting a body sample as intro sample))\n",
    "\n",
    "truebody = sess.run(accuracy,feed_dict={X:body,Y_:y0})\n",
    "trueintro = sess.run(accuracy,feed_dict={X:intro,Y_:y1})\n",
    "falsebody = 1-truebody\n",
    "falseintro = 1-trueintro\n",
    "print(\n",
    "'''      | Body | Intro |\n",
    "True  | %.3f | %.3f  |\n",
    "False | %.3f | %.3f  |''' % (truebody, trueintro, falsebody, falseintro))"
   ]
  },
  {
   "cell_type": "markdown",
   "metadata": {},
   "source": [
    "This simple network is able to reliably recognise the intro to an episode of Cheers has begun. It still has a false positive rate of at least 1.4% which means that by itself the network would end up skipping parts of the actual episode too often (given the audio is sampled at a frequency on the order of ~1s). \n",
    "\n",
    "To use this network to reliably identify just the intro to skip without false positives, techniques like thresholding the output required for a sample to be identified as the intro (the NN returns arrays of the form [P1, P2] where P1 is the probability the sample is of class 'body' and P2 is the probablity of class 'intro'. Currently the network just chooses the higher of the two) or requiring consecutive positives to trigger the skip would be necessary for good performance.  \n",
    "\n",
    "Better accuracy might be attained by a different NN layout, or increasing sampling time (currently 56ms)."
   ]
  }
 ],
 "metadata": {
  "kernelspec": {
   "display_name": "Python 3",
   "language": "python",
   "name": "python3"
  },
  "language_info": {
   "codemirror_mode": {
    "name": "ipython",
    "version": 3
   },
   "file_extension": ".py",
   "mimetype": "text/x-python",
   "name": "python",
   "nbconvert_exporter": "python",
   "pygments_lexer": "ipython3",
   "version": "3.6.1"
  }
 },
 "nbformat": 4,
 "nbformat_minor": 2
}
